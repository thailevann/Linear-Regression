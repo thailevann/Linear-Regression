{
 "cells": [
  {
   "cell_type": "code",
   "execution_count": 69,
   "id": "cb99f1d2-28e8-49ba-96fd-8810cba74b1e",
   "metadata": {},
   "outputs": [],
   "source": [
    "import pandas as pd\n",
    "import numpy as np\n",
    "import matplotlib.pyplot as plt\n",
    "import random"
   ]
  },
  {
   "cell_type": "code",
   "execution_count": 70,
   "id": "d6b2bbb6-d22e-47da-8d6c-748d740dec1d",
   "metadata": {},
   "outputs": [],
   "source": [
    "def get_column(data, index):\n",
    "    result = data.iloc[:, index]\n",
    "    return result\n",
    "def prepare_data(file_name_dataset):\n",
    "    data = pd.read_csv(file_name_dataset)\n",
    "    #data = np.genfromtxt(file_name_dataset, delimiter = ',', skip_header = 1).tolist()\n",
    "    tv_data = get_column(data,0)\n",
    "    radio_data = get_column(data,1)\n",
    "    newspaper_data = get_column(data,2)\n",
    "    sales_data = get_column(data,3)\n",
    "    X = [tv_data, radio_data, newspaper_data]\n",
    "    y = sales_data\n",
    "    return X, y"
   ]
  },
  {
   "cell_type": "code",
   "execution_count": 71,
   "id": "6f92846c-82c8-4d67-bb11-b22ae25ad330",
   "metadata": {},
   "outputs": [
    {
     "name": "stdout",
     "output_type": "stream",
     "text": [
      "[624.1, 175.1, 300.5, 78.9]\n"
     ]
    }
   ],
   "source": [
    "file_name_dataset = \"advertising.csv\"\n",
    "X,y = prepare_data(file_name_dataset)\n",
    "list = [ sum ( X [0][:5]) , sum ( X [1][:5]) , sum ( X [2][:5]) , sum ( y [:5]) ]\n",
    "print ( list )"
   ]
  },
  {
   "cell_type": "code",
   "execution_count": 73,
   "id": "f7208895-15ff-43f7-b4c0-f3dc513fe603",
   "metadata": {},
   "outputs": [],
   "source": [
    "def implement_linear_regression(X_data, y_data, epoch_max = 50, lr = 1e-5):\n",
    "    losses = []\n",
    "    w1, w2, w3, b = initialize_params()\n",
    "    N = len(y_data)\n",
    "    for epoch in range(epoch_max):\n",
    "        for i in range(N):\n",
    "            x1 = X_data[0][i]\n",
    "            x2 = X_data[1][i]\n",
    "            x3 = X_data[2][i]\n",
    "            y = y_data[i]\n",
    "            y_hat = predict(x1,x2,x3,w1,w2,w3,b)\n",
    "            loss = compute_loss_mse(y, y_hat)\n",
    "            dl_dw1 = compute_gradient_wi(x1,y,y_hat)\n",
    "            dl_dw2 = compute_gradient_wi(x2,y,y_hat)\n",
    "            dl_dw3 = compute_gradient_wi(x3,y,y_hat)\n",
    "            dl_db = compute_gradient_b(y,y_hat)\n",
    "            w1 = update_weight_wi(w1,dl_dw1, lr)\n",
    "            w2 = update_weight_wi(w2,dl_dw2, lr)\n",
    "            w3 = update_weight_wi(w3,dl_dw3, lr)\n",
    "            b = update_weight_b(b,dl_db, lr)\n",
    "            losses.append(loss)\n",
    "    return (w1,w2,w3,b, losses)\n",
    "    "
   ]
  },
  {
   "cell_type": "code",
   "execution_count": 74,
   "id": "4f70a9bf-a045-4a8b-8829-a5ddd17a1335",
   "metadata": {},
   "outputs": [],
   "source": [
    "def initialize_params():\n",
    "    w1 = random.gauss(mu = 0.0, sigma = 0.01)\n",
    "    w2 = random.gauss(mu = 0.0, sigma = 0.01)\n",
    "    w3 = random.gauss(mu = 0.0, sigma = 0.01)\n",
    "    b  = 0\n",
    "    return w1, w2,w3, b"
   ]
  },
  {
   "cell_type": "code",
   "execution_count": 75,
   "id": "9dbf7a79-c1d1-4a21-925e-243173213e61",
   "metadata": {},
   "outputs": [],
   "source": [
    "def initialize_params():\n",
    "    w1,w2,w3,b = (0.016992259082509283, 0.0070783670518262355,-0.002307860847821344, 0)\n",
    "    return w1,w2,w3,b"
   ]
  },
  {
   "cell_type": "code",
   "execution_count": 76,
   "id": "aa10f289-a695-4306-b6ed-1419fd342966",
   "metadata": {},
   "outputs": [],
   "source": [
    "def predict(x1,x2,x3,w1,w2,w3,b):\n",
    "    result = x1*w1 + x2*w2 + x3*w3 + b\n",
    "    return result"
   ]
  },
  {
   "cell_type": "code",
   "execution_count": 77,
   "id": "e0a49338-334d-4808-84e0-21323527fc9b",
   "metadata": {},
   "outputs": [
    {
     "name": "stdout",
     "output_type": "stream",
     "text": [
      "1.0\n"
     ]
    }
   ],
   "source": [
    "y = predict ( x1 =1 , x2 =1 , x3 =1 , w1 =0 , w2 =0.5 , w3 =0 , b =0.5)\n",
    "print(y)"
   ]
  },
  {
   "cell_type": "code",
   "execution_count": 16,
   "id": "e26afa55-f375-4b36-b700-5ecadb6a7730",
   "metadata": {},
   "outputs": [],
   "source": [
    "def compute_loss_mse(y_hat,y):\n",
    "    loss = (y_hat - y)**2\n",
    "    return loss"
   ]
  },
  {
   "cell_type": "code",
   "execution_count": 78,
   "id": "3e34c485-fdc3-457b-b227-d5fcb805f77f",
   "metadata": {},
   "outputs": [
    {
     "name": "stdout",
     "output_type": "stream",
     "text": [
      "0.25\n"
     ]
    }
   ],
   "source": [
    "l = compute_loss ( y_hat =1 , y =0.5)\n",
    "print(l)"
   ]
  },
  {
   "cell_type": "code",
   "execution_count": 22,
   "id": "2cd787e6-49af-4683-adee-347fa3ae450d",
   "metadata": {},
   "outputs": [],
   "source": [
    "def compute_loss_mae(y_hat,y):\n",
    "    loss = abs(y_hat - y)\n",
    "    return loss"
   ]
  },
  {
   "cell_type": "code",
   "execution_count": 20,
   "id": "ad3ee09a-6d11-456f-ace0-10bf62c5a5f4",
   "metadata": {},
   "outputs": [],
   "source": [
    "def compute_gradient_wi(xi, y, y_hat):\n",
    "    dl_dwi = 2*xi*(y_hat-y)\n",
    "    return dl_dwi\n",
    "def compute_gradient_b(y, y_hat):\n",
    "    dl_db = 2*(y_hat-y)\n",
    "    return dl_db"
   ]
  },
  {
   "cell_type": "code",
   "execution_count": 79,
   "id": "6b4541ac-f1ab-4d8e-8811-2fb872a88f6c",
   "metadata": {},
   "outputs": [
    {
     "name": "stdout",
     "output_type": "stream",
     "text": [
      "-1.0\n"
     ]
    }
   ],
   "source": [
    "g_wi = compute_gradient_wi ( xi =1.0 , y =1.0 , y_hat =0.5)\n",
    "print ( g_wi )"
   ]
  },
  {
   "cell_type": "code",
   "execution_count": 80,
   "id": "859236f2-d552-473f-9735-0e73137c1cc7",
   "metadata": {},
   "outputs": [
    {
     "name": "stdout",
     "output_type": "stream",
     "text": [
      "-3.0\n"
     ]
    }
   ],
   "source": [
    "g_b = compute_gradient_b ( y =2.0 , y_hat =0.5)\n",
    "print ( g_b )"
   ]
  },
  {
   "cell_type": "code",
   "execution_count": 84,
   "id": "1e12d14b-f0b5-4697-a101-df8be9df329c",
   "metadata": {},
   "outputs": [],
   "source": [
    "def update_weight_wi(wi, dl_dwi, lr):\n",
    "    wi = wi - lr*dl_dwi\n",
    "    return wi\n",
    "def update_weight_b(b, dl_db, lr):\n",
    "    b = b - lr*dl_db\n",
    "    return b"
   ]
  },
  {
   "cell_type": "code",
   "execution_count": 88,
   "id": "277299d9-cee5-4072-95cc-6bbb829b9ee7",
   "metadata": {},
   "outputs": [
    {
     "name": "stdout",
     "output_type": "stream",
     "text": [
      "1.000005\n"
     ]
    }
   ],
   "source": [
    "after_wi = update_weight_wi( 1.0 ,  -0.5 , 1e-5)\n",
    "print ( after_wi )"
   ]
  },
  {
   "cell_type": "code",
   "execution_count": 90,
   "id": "de03a742-de95-4f89-9da7-3603030d0046",
   "metadata": {},
   "outputs": [
    {
     "name": "stdout",
     "output_type": "stream",
     "text": [
      "0.50001\n",
      "1.000005\n"
     ]
    }
   ],
   "source": [
    "after_b = update_weight_b (0.5 ,-1.0 , 1e-5)\n",
    "print ( after_b )\n",
    "print ( after_wi )"
   ]
  },
  {
   "cell_type": "code",
   "execution_count": 21,
   "id": "c3b0ad3f-6458-4286-b855-d0d3d67cd48a",
   "metadata": {},
   "outputs": [
    {
     "data": {
      "image/png": "[encoded data removed]",
      "text/plain": [
       "<Figure size 640x480 with 1 Axes>"
      ]
     },
     "metadata": {},
     "output_type": "display_data"
    }
   ],
   "source": [
    "(w1,w2,w3,b, losses) = implement_linear_regression(X,y)\n",
    "plt.plot(losses[:100])\n",
    "plt.xlabel(\"#iteration\")\n",
    "plt.ylabel(\"Loss\")\n",
    "plt.show()"
   ]
  },
  {
   "cell_type": "code",
   "execution_count": 93,
   "id": "ad45943f-47c3-4c4c-bea8-ca626b0ec9b1",
   "metadata": {},
   "outputs": [
    {
     "name": "stdout",
     "output_type": "stream",
     "text": [
      "0.07405984066396477 0.15917360263437663 0.017561197559948935\n"
     ]
    }
   ],
   "source": [
    "X , y = prepare_data ( 'advertising.csv')\n",
    "( w1 , w2 , w3 ,b , losses ) = implement_linear_regression (X , y )\n",
    "print ( w1 , w2 , w3)"
   ]
  },
  {
   "cell_type": "code",
   "execution_count": 94,
   "id": "015d1b89-6c46-4cdf-be48-493594ffe970",
   "metadata": {},
   "outputs": [
    {
     "name": "stdout",
     "output_type": "stream",
     "text": [
      "predicted sales is 8.176413319549823\n"
     ]
    }
   ],
   "source": [
    "tv = 19.2\n",
    "radio = 35.9\n",
    "newspaper = 51.3\n",
    "( w1 , w2 , w3 ,b , losses ) = implement_linear_regression (X , y )\n",
    "sales = predict ( tv , radio , newspaper , w1 , w2 , w3 , b )\n",
    "print (f'predicted sales is { sales }')"
   ]
  },
  {
   "cell_type": "code",
   "execution_count": 96,
   "id": "67c973d5-4682-4943-8455-c3ed0e3fb4f8",
   "metadata": {},
   "outputs": [
    {
     "name": "stdout",
     "output_type": "stream",
     "text": [
      "0.5\n"
     ]
    }
   ],
   "source": [
    "l = compute_loss_mae ( y_hat =1 , y =0.5)\n",
    "print ( l )"
   ]
  },
  {
   "cell_type": "code",
   "execution_count": 99,
   "id": "92ed181c-a660-4265-9be0-de4bcf3d9282",
   "metadata": {},
   "outputs": [],
   "source": [
    "def implement_linear_regression_nsamples(X_data, y_data, epoch_max = 50, lr = 1e-5):\n",
    "    losses = []\n",
    "    w1, w2, w3, b = initialize_params()\n",
    "    N = len(y_data)\n",
    "    for epoch in range(epoch_max):\n",
    "        loss_total = 0.0\n",
    "        dw1_total = 0.0\n",
    "        dw2_total = 0.0\n",
    "        dw3_total = 0.0\n",
    "        db_total = 0.0\n",
    "\n",
    "        for i in range(N):\n",
    "            x1 = X_data[0][i]\n",
    "            x2 = X_data[1][i]\n",
    "            x3 = X_data[2][i]\n",
    "            y = y_data[i]\n",
    "            y_hat = predict(x1,x2,x3,w1,w2,w3,b)\n",
    "            loss = compute_loss_mse(y, y_hat)\n",
    "            \n",
    "            dl_dw1 = compute_gradient_wi(x1,y,y_hat)\n",
    "            dl_dw2 = compute_gradient_wi(x2,y,y_hat)\n",
    "            dl_dw3 = compute_gradient_wi(x3,y,y_hat)\n",
    "            dl_db = compute_gradient_b(y,y_hat)\n",
    "            loss_total = loss_total + loss\n",
    "            dw1_total = dw1_total + dl_dw1\n",
    "            dw2_total = dw2_total + dl_dw2\n",
    "            dw3_total = dw3_total + dl_dw3\n",
    "            db_total = db_total + dl_db\n",
    "            \n",
    "        w1 = update_weight_wi(w1,dw1_total/N, lr)\n",
    "        w2 = update_weight_wi(w2, dw2_total / N, lr)\n",
    "        w3 = update_weight_wi(w3,dw3_total /N, lr)\n",
    "        b = update_weight_b(b,   db_total/N, lr)\n",
    "            \n",
    "        losses.append(loss_total/N)\n",
    "    return (w1,w2,w3,b, losses)\n",
    "    "
   ]
  },
  {
   "cell_type": "code",
   "execution_count": 100,
   "id": "22018f67-b9b5-4adf-8b04-2eb43ecc2adc",
   "metadata": {},
   "outputs": [
    {
     "data": {
      "image/png": "[encoded data removed]",
      "text/plain": [
       "<Figure size 640x480 with 1 Axes>"
      ]
     },
     "metadata": {},
     "output_type": "display_data"
    }
   ],
   "source": [
    "(w1,w2,w3,b, losses) = implement_linear_regression_nsamples(X,y, epoch_max = 1000, lr = 1e-5)\n",
    "plt.plot(losses)\n",
    "plt.xlabel(\"#iteration\")\n",
    "plt.ylabel(\"Loss\")\n",
    "plt.show()"
   ]
  },
  {
   "cell_type": "code",
   "execution_count": 102,
   "id": "bf7fd350-fba9-4c8e-96d9-6205e1fce27c",
   "metadata": {},
   "outputs": [
    {
     "name": "stdout",
     "output_type": "stream",
     "text": [
      "0.06710990754044266 0.15756173831487585 0.029619799386084403\n"
     ]
    }
   ],
   "source": [
    "( w1 , w2 , w3 ,b , losses ) = implement_linear_regression_nsamples (X , y ,1000 ,1e-5)\n",
    "print ( w1 , w2 , w3 )"
   ]
  },
  {
   "cell_type": "code",
   "execution_count": 108,
   "id": "036b9fa5-9103-4eaa-9aec-d84a7e77846e",
   "metadata": {},
   "outputs": [],
   "source": [
    "def get_column(data, index):\n",
    "    result = data.iloc[:, index]\n",
    "    return result\n",
    "def prepare_data(file_name_dataset):\n",
    "    data = pd.read_csv(file_name_dataset)\n",
    "    #data = np.genfromtxt(file_name_dataset, delimiter = ',', skip_header = 1).tolist()\n",
    "    tv_data = get_column(data,0)\n",
    "    radio_data = get_column(data,1)\n",
    "    newspaper_data = get_column(data,2)\n",
    "    sales_data = get_column(data,3)\n",
    "    X = [[1,x1,x2,x3] for x1,x2,x3 in zip(tv_data, radio_data, newspaper_data)]\n",
    "    y = sales_data\n",
    "    return X, y"
   ]
  },
  {
   "cell_type": "code",
   "execution_count": 109,
   "id": "a3cefdd6-6453-4094-89ea-f44ebeb92ed5",
   "metadata": {},
   "outputs": [],
   "source": [
    "file_name_dataset = \"advertising.csv\"\n",
    "X,y = prepare_data(file_name_dataset)"
   ]
  },
  {
   "cell_type": "code",
   "execution_count": 110,
   "id": "1e5e8a27-0ce6-4efa-b69e-5c73f32794df",
   "metadata": {},
   "outputs": [],
   "source": [
    "def initialize_params():\n",
    "    w1 = random.gauss(mu = 0.0, sigma = 0.01)\n",
    "    w2 = random.gauss(mu = 0.0, sigma = 0.01)\n",
    "    w3 = random.gauss(mu = 0.0, sigma = 0.01)\n",
    "    b  = 0\n",
    "    return [0, -0.01268850433497871, 0.004752496982185252, 0.0073796171538643845]\n",
    "    #return [b,w1, w2,w3]"
   ]
  },
  {
   "cell_type": "code",
   "execution_count": 111,
   "id": "1861dc00-8ca0-4823-a404-971b6a620f13",
   "metadata": {},
   "outputs": [],
   "source": [
    "def predict(X_features, weights):\n",
    "    return np.dot(X_features, weights) \n",
    "def compute_loss(y_hat,y):\n",
    "    return (y_hat-y)**2\n",
    "\n",
    "def compute_gradient_w(X_features, y, y_hat):\n",
    "    dl_dweights = []\n",
    "    for i in range(len(X_features)):\n",
    "        if i == 0:\n",
    "            dl_dweights.append(2*(y_hat-y))\n",
    "        else:\n",
    "            dl_dweights.append(2*X_features[i]*(y_hat-y))\n",
    "    return dl_dweights\n",
    "\n",
    "def update_weight(weights, dl_weights, lr):\n",
    "    for i in range(len(dl_weights)):\n",
    "        weights[i] = weights[i] - lr*dl_weights[i]\n",
    "    return weights"
   ]
  },
  {
   "cell_type": "code",
   "execution_count": 112,
   "id": "b336b3a7-cba0-469d-b918-246e9056cfdd",
   "metadata": {},
   "outputs": [],
   "source": [
    "def implement_linear_regression(X_features, y_output, epoch_max = 50, lr = 1e-5):\n",
    "    losses = []\n",
    "    weights = initialize_params()\n",
    "    N = len(y_output)\n",
    "    for epoch in range(epoch_max):\n",
    "        print(\"epoch \", epoch)\n",
    "        for i in range(N):\n",
    "            features_i = X_features[i]\n",
    "            y = y_output[i]\n",
    "            y_hat = predict(features_i, weights)\n",
    "            loss = compute_loss(y, y_hat)\n",
    "            dl_dweights = compute_gradient_w(features_i, y, y_hat)\n",
    "            weights = update_weight(weights, dl_dweights, lr)\n",
    "            losses.append(loss)\n",
    "    return weights, losses\n",
    "    "
   ]
  },
  {
   "cell_type": "code",
   "execution_count": 113,
   "id": "af2507ae-44b0-420d-b74e-1d375ff43b81",
   "metadata": {},
   "outputs": [
    {
     "name": "stdout",
     "output_type": "stream",
     "text": [
      "epoch  0\n",
      "epoch  1\n",
      "epoch  2\n",
      "epoch  3\n",
      "epoch  4\n",
      "epoch  5\n",
      "epoch  6\n",
      "epoch  7\n",
      "epoch  8\n",
      "epoch  9\n",
      "epoch  10\n",
      "epoch  11\n",
      "epoch  12\n",
      "epoch  13\n",
      "epoch  14\n",
      "epoch  15\n",
      "epoch  16\n",
      "epoch  17\n",
      "epoch  18\n",
      "epoch  19\n",
      "epoch  20\n",
      "epoch  21\n",
      "epoch  22\n",
      "epoch  23\n",
      "epoch  24\n",
      "epoch  25\n",
      "epoch  26\n",
      "epoch  27\n",
      "epoch  28\n",
      "epoch  29\n",
      "epoch  30\n",
      "epoch  31\n",
      "epoch  32\n",
      "epoch  33\n",
      "epoch  34\n",
      "epoch  35\n",
      "epoch  36\n",
      "epoch  37\n",
      "epoch  38\n",
      "epoch  39\n",
      "epoch  40\n",
      "epoch  41\n",
      "epoch  42\n",
      "epoch  43\n",
      "epoch  44\n",
      "epoch  45\n",
      "epoch  46\n",
      "epoch  47\n",
      "epoch  48\n",
      "epoch  49\n"
     ]
    }
   ],
   "source": [
    "W, L = implement_linear_regression(X,y)"
   ]
  },
  {
   "cell_type": "code",
   "execution_count": 114,
   "id": "8f3c3ad8-e83e-45c1-9887-e1f2d16b5a79",
   "metadata": {},
   "outputs": [
    {
     "data": {
      "image/png": "[encoded data removed]",
      "text/plain": [
       "<Figure size 640x480 with 1 Axes>"
      ]
     },
     "metadata": {},
     "output_type": "display_data"
    }
   ],
   "source": [
    "plt . plot ( L[0:100])\n",
    "plt . xlabel (\"# iteration \")\n",
    "plt . ylabel (\" Loss \")\n",
    "plt . show ()"
   ]
  },
  {
   "cell_type": "code",
   "execution_count": null,
   "id": "9c580926-bfb9-4efb-8125-8bb799dde51e",
   "metadata": {},
   "outputs": [],
   "source": [
    "W , L = implement_linear_regression (X , y , 50 , 1e-5)\n",
    "pr"
   ]
  }
 ],
 "metadata": {
  "kernelspec": {
   "display_name": "Python 3 (ipykernel)",
   "language": "python",
   "name": "python3"
  },
  "language_info": {
   "codemirror_mode": {
    "name": "ipython",
    "version": 3
   },
   "file_extension": ".py",
   "mimetype": "text/x-python",
   "name": "python",
   "nbconvert_exporter": "python",
   "pygments_lexer": "ipython3",
   "version": "3.12.6"
  }
 },
 "nbformat": 4,
 "nbformat_minor": 5
}
